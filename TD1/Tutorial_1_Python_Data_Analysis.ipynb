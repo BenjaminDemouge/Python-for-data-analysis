{
  "nbformat": 4,
  "nbformat_minor": 0,
  "metadata": {
    "colab": {
      "name": "Tutorial_1_Python_Data_Analysis.ipynb",
      "provenance": []
    },
    "kernelspec": {
      "name": "python3",
      "display_name": "Python 3"
    },
    "language_info": {
      "name": "python"
    }
  },
  "cells": [
    {
      "cell_type": "markdown",
      "metadata": {
        "id": "vDFIUnEwTEap"
      },
      "source": [
        "# Tutorial 1 - Python For Data Analysis 🐍 \n",
        "\n",
        "---\n",
        "\n",
        "## Basics of Python 🌱 "
      ]
    },
    {
      "cell_type": "markdown",
      "metadata": {
        "id": "4vZmx4svsEWM"
      },
      "source": [
        "### *Table of Contents*\n",
        "\n",
        "- [Exercise 1](#exercise-1) : List\n",
        "- [Exercise 2](#exercise-2) : Lambda\n",
        "- [Exercise 3](#exercise-3) : Dictionary\n",
        "- [Exercise 4](#exercise-4) : Tuples, Sets\n",
        "- [Exercice 5](#exercise-5) : Dates\n",
        "- [Exercise 6](#exercise-6) : File I/O\n",
        "\n",
        "If you have any questions or remarks about the course or this tutorial, feel free to contact imen.ouled_dlala@devinci.fr or yann.kervella.pro@gmail.com ! 😊"
      ]
    },
    {
      "cell_type": "markdown",
      "metadata": {
        "id": "FLqTjhd4y0Ts"
      },
      "source": [
        "### Requirements"
      ]
    },
    {
      "cell_type": "code",
      "metadata": {
        "id": "690W_WeZyzqk"
      },
      "source": [
        "from datetime import datetime, date, time, timedelta\n",
        "import pytz\n",
        "import re"
      ],
      "execution_count": 1,
      "outputs": []
    },
    {
      "cell_type": "markdown",
      "metadata": {
        "id": "JpFs22a7YTve"
      },
      "source": [
        "<a name=\"exercise-1\">\n",
        "\n",
        "### Exercise 1 : List\n",
        "---\n",
        "\n",
        "• Write a program to print a specified list after removing the 0th, 4th and 5th elements. \n",
        "\n",
        "- *Sample List*: ['Red', 'Green', 'White', 'Black', 'Pink', 'Yellow']\n",
        "\n",
        "- *Expected Output*: ['Green', 'White', 'Black']\n",
        "\n",
        "\n"
      ]
    },
    {
      "cell_type": "code",
      "metadata": {
        "id": "tll-PnLLp3Dr",
        "outputId": "66feb3ff-5d70-4444-892a-449cadcb7171",
        "colab": {
          "base_uri": "https://localhost:8080/"
        }
      },
      "source": [
        "l = [1,2,3,4,5,6,7]\n",
        "l.pop(5)\n",
        "l.pop(4)\n",
        "l.pop(0)\n",
        "l"
      ],
      "execution_count": 8,
      "outputs": [
        {
          "output_type": "execute_result",
          "data": {
            "text/plain": [
              "[2, 3, 4, 7]"
            ]
          },
          "metadata": {},
          "execution_count": 8
        }
      ]
    },
    {
      "cell_type": "markdown",
      "metadata": {
        "id": "L-kRPYHtpyn6"
      },
      "source": [
        "• Write a program to check whether two lists are circularly identical.\n"
      ]
    },
    {
      "cell_type": "code",
      "metadata": {
        "id": "jN8JwO1Sp3n9",
        "outputId": "825e6e7a-bd25-452e-ab63-b367ccbffdb5",
        "colab": {
          "base_uri": "https://localhost:8080/"
        }
      },
      "source": [
        "l1 = [1,2,3,4,5,6]\n",
        "l2 = [3,4,5,6,1,2]\n",
        "l3 = [3,4,5,1,6,2]\n",
        "l4 = [7,4,6,34,7,1,2]\n",
        "\n",
        "def listCircular(l1,l2):\n",
        "  n = 0\n",
        "  if len(l1)!=len(l2):\n",
        "    return False\n",
        "  for i in range(len(l1)):\n",
        "    if l1[0] == l2[i]:\n",
        "      l2 = l2[i:]+l2[:i]\n",
        "      for j in range(len(l1)):\n",
        "        if l1[j] == l2[j]:\n",
        "          n+=1\n",
        "  if n == len(l1):\n",
        "    return True\n",
        "  else:\n",
        "    return False\n",
        "\n",
        "\n",
        "#method efficace\n",
        "\n",
        "def listeCircular(l1,l2):\n",
        "  return any(l1[i:]+l1[:i] == l2 for i in range(len(l1)))\n",
        "\n",
        "listeCircular(l1,l4)"
      ],
      "execution_count": 17,
      "outputs": [
        {
          "output_type": "execute_result",
          "data": {
            "text/plain": [
              "False"
            ]
          },
          "metadata": {},
          "execution_count": 17
        }
      ]
    },
    {
      "cell_type": "markdown",
      "metadata": {
        "id": "labqqrPEp0WZ"
      },
      "source": [
        "• Giving the following list [33, 56, 4, 80, 23, 100, 1, 0, 40, 11], write a program to extract:\n",
        "- the elements from 0 (included) to 7 (excluded)\n",
        "- the last element of the list\n",
        "- the last 3 elements of the list\n",
        "\n",
        "\n"
      ]
    },
    {
      "cell_type": "code",
      "metadata": {
        "id": "KxqdxuKep4B6",
        "outputId": "05cb7c90-3c7e-4437-bf29-0e62bae194d9",
        "colab": {
          "base_uri": "https://localhost:8080/"
        }
      },
      "source": [
        "l5 =  [33, 56, 4, 80, 23, 100, 1, 0, 40, 11]\n",
        "l5[:7]\n",
        "l5[-1]\n",
        "l5[-3:]"
      ],
      "execution_count": 21,
      "outputs": [
        {
          "output_type": "execute_result",
          "data": {
            "text/plain": [
              "11"
            ]
          },
          "metadata": {},
          "execution_count": 21
        }
      ]
    },
    {
      "cell_type": "markdown",
      "metadata": {
        "id": "_71yk3m5p2ZL"
      },
      "source": [
        "• Write a program to get a list, sorted in increasing order by the last element in each tuple from a given list of non-empty tuples.\n",
        "\n",
        "- *Sample List* : [(2, 5), (1, 2), (4, 4), (2, 3), (2, 1)] \n",
        "\n",
        "- *Expected Result* : [(2, 1), (1, 2), (2, 3), (4, 4), (2, 5)]"
      ]
    },
    {
      "cell_type": "code",
      "metadata": {
        "id": "Kilm6EzSp4mV",
        "outputId": "36fa13cd-0d95-4813-dd2c-081074dfef02",
        "colab": {
          "base_uri": "https://localhost:8080/"
        }
      },
      "source": [
        "l6 =  [(2, 5), (1, 2), (4, 4), (2, 3), (2, 1)]\n",
        "l6 = sorted(l6, key = lambda x: x[-1])\n",
        "l6"
      ],
      "execution_count": 25,
      "outputs": [
        {
          "output_type": "execute_result",
          "data": {
            "text/plain": [
              "[(2, 1), (1, 2), (2, 3), (4, 4), (2, 5)]"
            ]
          },
          "metadata": {},
          "execution_count": 25
        }
      ]
    },
    {
      "cell_type": "markdown",
      "metadata": {
        "id": "EzJfdnlaT0cp"
      },
      "source": [
        "<a name=\"exercise-2\">\n",
        "\n",
        "### Exercise 2\n",
        "---\n",
        "\n",
        "• Write a program to **square and cube** every number in a given list of integers using **Lambda**.\n",
        "\n",
        "- Original list of integers:\n",
        "[1, 2, 3, 4, 5, 6, 7, 8, 9, 10]\n",
        "\n",
        "- Square every number of the said list:\n",
        "[1, 4, 9, 16, 25, 36, 49, 64, 81, 100]\n",
        "\n",
        "- Cube every number of the said list:\n",
        "[1, 8, 27, 64, 125, 216, 343, 512, 729, 1000]"
      ]
    },
    {
      "cell_type": "code",
      "metadata": {
        "id": "1ebs9VAuqGCX"
      },
      "source": [
        "l7 = [1, 2, 3, 4, 5, 6, 7, 8, 9, 10]\n",
        "\n",
        "l8 = list(map(lambda x : x**2 ,l7))\n",
        "l9 = list(map(lambda x : x**3,l7))\n",
        "\n",
        "\n",
        "l8\n",
        "l9"
      ],
      "execution_count": null,
      "outputs": []
    },
    {
      "cell_type": "markdown",
      "metadata": {
        "id": "Mb25kK7nTD26"
      },
      "source": [
        "<a name=\"exercise-3\">\n",
        "\n",
        "### Exercise 3 : Dictionary\n",
        "\n",
        "---\n",
        "\n",
        "• Write a script to check whether a given key already exists in a dictionary.\n",
        "\n"
      ]
    },
    {
      "cell_type": "code",
      "metadata": {
        "id": "4a11mMGSjNse"
      },
      "source": [
        "sample_dict = {\"name\": \"Jefferson\", \"birth_date\": \"1999-21-09\", \"gender\": \"Male\"}"
      ],
      "execution_count": 30,
      "outputs": []
    },
    {
      "cell_type": "code",
      "metadata": {
        "id": "z6Lw29geqvse",
        "outputId": "38270984-bed2-449a-c25a-36f4d9550fdb",
        "colab": {
          "base_uri": "https://localhost:8080/"
        }
      },
      "source": [
        "def dictkey(dico,cle):\n",
        "  if cle in dico:\n",
        "    return True\n",
        "  else:\n",
        "    return False \n",
        "dictkey(sample_dict,'efv')"
      ],
      "execution_count": 34,
      "outputs": [
        {
          "output_type": "execute_result",
          "data": {
            "text/plain": [
              "False"
            ]
          },
          "metadata": {},
          "execution_count": 34
        }
      ]
    },
    {
      "cell_type": "markdown",
      "metadata": {
        "id": "bNakccKyqyIE"
      },
      "source": [
        "• Write a program to iterate over dictionaries using for loops.\n"
      ]
    },
    {
      "cell_type": "code",
      "metadata": {
        "id": "Yey6IhTiqaPQ",
        "outputId": "de13c41c-1f29-418a-91aa-7c54e6c570f2",
        "colab": {
          "base_uri": "https://localhost:8080/"
        }
      },
      "source": [
        "def dico(dico):\n",
        "  return [dico[i] for i in dico]\n",
        "dico(sample_dict)"
      ],
      "execution_count": 39,
      "outputs": [
        {
          "output_type": "execute_result",
          "data": {
            "text/plain": [
              "['Jefferson', '1999-21-09', 'Male']"
            ]
          },
          "metadata": {},
          "execution_count": 39
        }
      ]
    },
    {
      "cell_type": "markdown",
      "metadata": {
        "id": "lboerwu5qzhj"
      },
      "source": [
        "• Write a script to generate and print a dictionary that contains a number (between 1 and n) in the form (x, x*x).\n",
        "\n",
        "- Sample Dictionary: (n = 5)\n",
        "- Expected Output: {1: 1, 2: 4, 3: 9, 4: 16, 5: 25}\n"
      ]
    },
    {
      "cell_type": "code",
      "metadata": {
        "id": "WaMO5zivqz1c",
        "outputId": "aca89d66-8080-4f58-a8dc-acadfafe716f",
        "colab": {
          "base_uri": "https://localhost:8080/"
        }
      },
      "source": [
        "dict(zip([i for i in range(1,6)],[i**2 for i in  range(1,6)]))"
      ],
      "execution_count": 43,
      "outputs": [
        {
          "output_type": "execute_result",
          "data": {
            "text/plain": [
              "{1: 1, 2: 4, 3: 9, 4: 16, 5: 25}"
            ]
          },
          "metadata": {},
          "execution_count": 43
        }
      ]
    },
    {
      "cell_type": "markdown",
      "metadata": {
        "id": "LUlJTVINq34S"
      },
      "source": [
        "• Write a program to map two lists into a dictionary."
      ]
    },
    {
      "cell_type": "code",
      "metadata": {
        "id": "sSIY9O9wjUK9"
      },
      "source": [
        "list1 = [\"name\", \"birth_date\", \"gender\"]\n",
        "list2 = [\"Jessica\", \"1999-04-05\", \"Female\"]"
      ],
      "execution_count": 44,
      "outputs": []
    },
    {
      "cell_type": "code",
      "metadata": {
        "id": "YfuVeqCgq4jF",
        "outputId": "b7d79828-e43d-4d5b-bab0-f58d2c8eecf5",
        "colab": {
          "base_uri": "https://localhost:8080/"
        }
      },
      "source": [
        "dict(zip(list1,list2))"
      ],
      "execution_count": 46,
      "outputs": [
        {
          "output_type": "execute_result",
          "data": {
            "text/plain": [
              "{'birth_date': '1999-04-05', 'gender': 'Female', 'name': 'Jessica'}"
            ]
          },
          "metadata": {},
          "execution_count": 46
        }
      ]
    },
    {
      "cell_type": "markdown",
      "metadata": {
        "id": "RfTIualkqLuO"
      },
      "source": [
        "<a name=\"exercise-4\">\n",
        "\n",
        "### Exercise 4 : Tuples & Sets\n",
        "\n",
        "---\n",
        "• Write a program to compute element-wise sum of given tuples. \n",
        "- Original lists:\n",
        "(1, 2, 3, 4) (3, 5, 2, 1) (2, 2, 3, 1)\n",
        "- Element-wise sum of the said tuples:\n",
        "(6, 9, 8, 6)"
      ]
    },
    {
      "cell_type": "code",
      "metadata": {
        "id": "HX51VZZTqai7",
        "outputId": "ba78a57d-d396-468b-e5a8-8b3c6392d0ad",
        "colab": {
          "base_uri": "https://localhost:8080/"
        }
      },
      "source": [
        "l10 = (1, 2, 3, 4) \n",
        "l11 = (3, 5, 2, 1)\n",
        "l12 = (2, 2, 3, 1)\n",
        "list(map(lambda x1,x2,x3 : x1+x2+x3,l10,l11,l12))"
      ],
      "execution_count": 47,
      "outputs": [
        {
          "output_type": "execute_result",
          "data": {
            "text/plain": [
              "[6, 9, 8, 6]"
            ]
          },
          "metadata": {},
          "execution_count": 47
        }
      ]
    },
    {
      "cell_type": "code",
      "metadata": {
        "id": "yZ5Vh-un5-Gg"
      },
      "source": [
        "def sommeTuples(*tuples):\n",
        "  return list(map(lambda *x : sum(x),*tuples))"
      ],
      "execution_count": 53,
      "outputs": []
    },
    {
      "cell_type": "markdown",
      "metadata": {
        "id": "c8JK4pWBrDXY"
      },
      "source": [
        "• Write a Python program to convert a tuple to a dictionary"
      ]
    },
    {
      "cell_type": "code",
      "metadata": {
        "id": "-bmqgodFrENX",
        "outputId": "6eafd18b-80e6-43ed-bd09-7a7341ad98da",
        "colab": {
          "base_uri": "https://localhost:8080/"
        }
      },
      "source": [
        "t1 = [(1,2),(3,4),(5,6)]\n",
        "dict(t1)"
      ],
      "execution_count": 48,
      "outputs": [
        {
          "output_type": "execute_result",
          "data": {
            "text/plain": [
              "{1: 2, 3: 4, 5: 6}"
            ]
          },
          "metadata": {},
          "execution_count": 48
        }
      ]
    },
    {
      "cell_type": "markdown",
      "metadata": {
        "id": "pLvO5ho7qMIq"
      },
      "source": [
        "<a name=\"exercise-5\">\n",
        "\n",
        "### Exercise 5 : Dates\n",
        "\n",
        "---\n",
        "• Write a Python program to get the current time. \n",
        "- Sample Format: 13:19:49.078205"
      ]
    },
    {
      "cell_type": "code",
      "metadata": {
        "id": "Kpi8L46Aqa2n",
        "outputId": "28735a18-04e1-48eb-c366-018863770e5e",
        "colab": {
          "base_uri": "https://localhost:8080/"
        }
      },
      "source": [
        "from datetime import datetime\n",
        "from datetime import timedelta\n",
        "import pytz\n",
        "paris = pytz.timezone('Europe/Paris')\n",
        "print(datetime.now(tz = paris))"
      ],
      "execution_count": 76,
      "outputs": [
        {
          "output_type": "stream",
          "name": "stdout",
          "text": [
            "2021-09-29 16:44:04.997626+02:00\n"
          ]
        }
      ]
    },
    {
      "cell_type": "markdown",
      "metadata": {
        "id": "9jSxS7yGrJdy"
      },
      "source": [
        "• Write a Python program to subtract five days from current date. \n",
        "- Sample Date:\n",
        "- Current Date: 2015-06-22\n",
        "- 5 days before Current Date : 2015-06-1"
      ]
    },
    {
      "cell_type": "code",
      "metadata": {
        "id": "xmGmeZzGrJxT",
        "outputId": "27c06dd2-8263-4cb7-f522-c9d92bf1f93a",
        "colab": {
          "base_uri": "https://localhost:8080/"
        }
      },
      "source": [
        "now = datetime.now(tz = paris)\n",
        "print(now -timedelta(5)) "
      ],
      "execution_count": 81,
      "outputs": [
        {
          "output_type": "stream",
          "name": "stdout",
          "text": [
            "2021-09-24 16:46:11.012446+02:00\n"
          ]
        }
      ]
    },
    {
      "cell_type": "markdown",
      "metadata": {
        "id": "jf5pU_5frJ9k"
      },
      "source": [
        "• Write a Python program to print yesterday, today, tomorrow"
      ]
    },
    {
      "cell_type": "code",
      "metadata": {
        "id": "pnfsJE_DrLN7",
        "outputId": "ab8489fc-bd04-42a4-faf2-681c96a3f54c",
        "colab": {
          "base_uri": "https://localhost:8080/"
        }
      },
      "source": [
        "today = datetime.today()\n",
        "yesterday = today - timedelta(1)\n",
        "tomorrow = today + timedelta(1)\n",
        "\n",
        "print(tomorrow)"
      ],
      "execution_count": 84,
      "outputs": [
        {
          "output_type": "stream",
          "name": "stdout",
          "text": [
            "2021-09-30 14:48:17.281148\n"
          ]
        }
      ]
    },
    {
      "cell_type": "markdown",
      "metadata": {
        "id": "9PDdb6vqrLcJ"
      },
      "source": [
        "• Write a Python program to get week number.\n",
        "- Sample Date : 2015, 6, 16 \n",
        "- Expected Output : 25"
      ]
    },
    {
      "cell_type": "code",
      "metadata": {
        "id": "jwEi-R9jrL1y"
      },
      "source": [
        ""
      ],
      "execution_count": null,
      "outputs": []
    },
    {
      "cell_type": "markdown",
      "metadata": {
        "id": "Ax4N_WSLrdA7"
      },
      "source": [
        "• Write a Python program to calculate a number of days between two dates"
      ]
    },
    {
      "cell_type": "code",
      "metadata": {
        "id": "AeMcc8ePrd95"
      },
      "source": [
        ""
      ],
      "execution_count": null,
      "outputs": []
    },
    {
      "cell_type": "markdown",
      "metadata": {
        "id": "CyHCE-dZqMb-"
      },
      "source": [
        "<a name=\"exercise-6\">\n",
        "\n",
        "### Exercise 6 : File I/O\n",
        "\n",
        "---\n",
        "• Write a Python program to count the number of lines in a text file"
      ]
    },
    {
      "cell_type": "code",
      "metadata": {
        "id": "t98dO2T0qbHK",
        "outputId": "61e1b675-58c5-4706-db52-98780927ba4f",
        "colab": {
          "base_uri": "https://localhost:8080/"
        }
      },
      "source": [
        "with open('data.txt') as myfile:\n",
        "    count = sum(1 for line in myfile)\n",
        "\n",
        "print(count)"
      ],
      "execution_count": 86,
      "outputs": [
        {
          "output_type": "stream",
          "name": "stdout",
          "text": [
            "7\n"
          ]
        }
      ]
    },
    {
      "cell_type": "markdown",
      "metadata": {
        "id": "n19_Rg0sqf6H"
      },
      "source": [
        "• Write a Python program to assess if a file is closed or not\n"
      ]
    },
    {
      "cell_type": "code",
      "metadata": {
        "id": "6VKrc_1NqhKY",
        "outputId": "f05484bc-2179-4dc2-e5db-93ed17dabae0",
        "colab": {
          "base_uri": "https://localhost:8080/"
        }
      },
      "source": [
        "def closed(file):\n",
        "  return file.closed\n",
        "\n",
        "closed(myfile)"
      ],
      "execution_count": 88,
      "outputs": [
        {
          "output_type": "execute_result",
          "data": {
            "text/plain": [
              "True"
            ]
          },
          "metadata": {},
          "execution_count": 88
        }
      ]
    },
    {
      "cell_type": "markdown",
      "metadata": {
        "id": "WxgHAFb4qhnC"
      },
      "source": [
        "• Write a Python program to append text to a file and display the text\n"
      ]
    },
    {
      "cell_type": "code",
      "metadata": {
        "id": "OR-DpP9BqivV"
      },
      "source": [
        "file = open('data.txt','a')\n",
        "file.write('Bonjour monsieur')\n",
        "\n",
        "file.close\n",
        "file = open('data.txt','r')\n",
        "for i in file:\n",
        "  print(i)"
      ],
      "execution_count": null,
      "outputs": []
    },
    {
      "cell_type": "code",
      "metadata": {
        "id": "EBn7ks7GHxMx",
        "outputId": "8cd4cd28-a5e7-4702-8bfc-b11e0f08cc68",
        "colab": {
          "base_uri": "https://localhost:8080/"
        }
      },
      "source": [
        "file = open('data.txt','w')\n",
        "file.write(\"this is a sample\\ndocument for a course\\nby ESILV in python tutorial\\ngood luck folks for this sample\\nif you have a question don't hesitate to ask me\\nyou must have my email as well if questions after the session\")"
      ],
      "execution_count": 104,
      "outputs": [
        {
          "output_type": "execute_result",
          "data": {
            "text/plain": [
              "208"
            ]
          },
          "metadata": {},
          "execution_count": 104
        }
      ]
    },
    {
      "cell_type": "markdown",
      "metadata": {
        "id": "ZEt-WWckqjSN"
      },
      "source": [
        "• Write a Python program to count the frequency of words in a file."
      ]
    },
    {
      "cell_type": "code",
      "metadata": {
        "id": "fWXNHF6LqkId",
        "outputId": "b67e9bc5-900c-4f0e-90cc-77beed2aecee",
        "colab": {
          "base_uri": "https://localhost:8080/"
        }
      },
      "source": [
        "file = open('data.txt','r')\n",
        "line = ''\n",
        "for i in file:\n",
        "  line += i\n",
        "\n",
        "l = line.split(' ')\n"
      ],
      "execution_count": 105,
      "outputs": [
        {
          "output_type": "execute_result",
          "data": {
            "text/plain": [
              "['this',\n",
              " 'is',\n",
              " 'a',\n",
              " 'sample\\ndocument',\n",
              " 'for',\n",
              " 'a',\n",
              " 'course\\nby',\n",
              " 'ESILV',\n",
              " 'in',\n",
              " 'python',\n",
              " 'tutorial\\ngood',\n",
              " 'luck',\n",
              " 'folks',\n",
              " 'for',\n",
              " 'this',\n",
              " 'sample\\nif',\n",
              " 'you',\n",
              " 'have',\n",
              " 'a',\n",
              " 'question',\n",
              " \"don't\",\n",
              " 'hesitate',\n",
              " 'to',\n",
              " 'ask',\n",
              " 'me\\nyou',\n",
              " 'must',\n",
              " 'have',\n",
              " 'my',\n",
              " 'email',\n",
              " 'as',\n",
              " 'well',\n",
              " 'if',\n",
              " 'questions',\n",
              " 'after',\n",
              " 'the',\n",
              " 'session']"
            ]
          },
          "metadata": {},
          "execution_count": 105
        }
      ]
    },
    {
      "cell_type": "markdown",
      "metadata": {
        "id": "GhMKdGQwi9gA"
      },
      "source": [
        "## Good job, you finished the first tutorial ! 😎"
      ]
    }
  ]
}